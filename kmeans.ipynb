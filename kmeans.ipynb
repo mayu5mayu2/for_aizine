{
 "cells": [
  {
   "cell_type": "markdown",
   "metadata": {},
   "source": [
    "こちらのノートブックは\n",
    "【機械学習初心者向け】クラスタリング手法「k-means」について解説という記事より\n",
    "\n",
    "「k-meansをPythonで実装してみよう」で使用したコードとなります。"
   ]
  },
  {
   "cell_type": "code",
   "execution_count": 1,
   "metadata": {},
   "outputs": [],
   "source": [
    "import pandas as pd\n",
    "import matplotlib.pyplot as plt\n",
    "%matplotlib inline\n",
    "from sklearn.cluster import KMeans"
   ]
  },
  {
   "cell_type": "code",
   "execution_count": 2,
   "metadata": {},
   "outputs": [],
   "source": [
    "df = pd.read_csv(\"summary_by_prefecture.csv\", encoding=\"shift-jis\")\n",
    "# 文字コードエラー回避のためshift-jisを使用しています\n",
    "# 政府CIOポータルがオープンデータで配布している「都道府県別累積接種回数サマリー」を使用しておりダウンロード日によって違う結果となる場合もあります"
   ]
  },
  {
   "cell_type": "code",
   "execution_count": 3,
   "metadata": {},
   "outputs": [
    {
     "data": {
      "text/html": [
       "<div>\n",
       "<style scoped>\n",
       "    .dataframe tbody tr th:only-of-type {\n",
       "        vertical-align: middle;\n",
       "    }\n",
       "\n",
       "    .dataframe tbody tr th {\n",
       "        vertical-align: top;\n",
       "    }\n",
       "\n",
       "    .dataframe thead th {\n",
       "        text-align: right;\n",
       "    }\n",
       "</style>\n",
       "<table border=\"1\" class=\"dataframe\">\n",
       "  <thead>\n",
       "    <tr style=\"text-align: right;\">\n",
       "      <th></th>\n",
       "      <th>date</th>\n",
       "      <th>prefecture_code</th>\n",
       "      <th>prefecture_name</th>\n",
       "      <th>count_first_or_mid_general</th>\n",
       "      <th>count_second_or_full_general</th>\n",
       "    </tr>\n",
       "  </thead>\n",
       "  <tbody>\n",
       "    <tr>\n",
       "      <th>0</th>\n",
       "      <td>2021-07-29</td>\n",
       "      <td>1</td>\n",
       "      <td>北海道</td>\n",
       "      <td>1780534</td>\n",
       "      <td>1182624</td>\n",
       "    </tr>\n",
       "    <tr>\n",
       "      <th>1</th>\n",
       "      <td>2021-07-29</td>\n",
       "      <td>2</td>\n",
       "      <td>青森県</td>\n",
       "      <td>456292</td>\n",
       "      <td>320672</td>\n",
       "    </tr>\n",
       "    <tr>\n",
       "      <th>2</th>\n",
       "      <td>2021-07-29</td>\n",
       "      <td>3</td>\n",
       "      <td>岩手県</td>\n",
       "      <td>418846</td>\n",
       "      <td>271436</td>\n",
       "    </tr>\n",
       "    <tr>\n",
       "      <th>3</th>\n",
       "      <td>2021-07-29</td>\n",
       "      <td>4</td>\n",
       "      <td>宮城県</td>\n",
       "      <td>760437</td>\n",
       "      <td>524925</td>\n",
       "    </tr>\n",
       "    <tr>\n",
       "      <th>4</th>\n",
       "      <td>2021-07-29</td>\n",
       "      <td>5</td>\n",
       "      <td>秋田県</td>\n",
       "      <td>366317</td>\n",
       "      <td>282013</td>\n",
       "    </tr>\n",
       "  </tbody>\n",
       "</table>\n",
       "</div>"
      ],
      "text/plain": [
       "         date  prefecture_code prefecture_name  count_first_or_mid_general  \\\n",
       "0  2021-07-29                1             北海道                     1780534   \n",
       "1  2021-07-29                2             青森県                      456292   \n",
       "2  2021-07-29                3             岩手県                      418846   \n",
       "3  2021-07-29                4             宮城県                      760437   \n",
       "4  2021-07-29                5             秋田県                      366317   \n",
       "\n",
       "   count_second_or_full_general  \n",
       "0                       1182624  \n",
       "1                        320672  \n",
       "2                        271436  \n",
       "3                        524925  \n",
       "4                        282013  "
      ]
     },
     "execution_count": 3,
     "metadata": {},
     "output_type": "execute_result"
    }
   ],
   "source": [
    "df.head()"
   ]
  },
  {
   "cell_type": "code",
   "execution_count": 4,
   "metadata": {},
   "outputs": [
    {
     "data": {
      "text/plain": [
       "date                            object\n",
       "prefecture_code                  int64\n",
       "prefecture_name                 object\n",
       "count_first_or_mid_general       int64\n",
       "count_second_or_full_general     int64\n",
       "dtype: object"
      ]
     },
     "execution_count": 4,
     "metadata": {},
     "output_type": "execute_result"
    }
   ],
   "source": [
    "df.dtypes"
   ]
  },
  {
   "cell_type": "code",
   "execution_count": 5,
   "metadata": {},
   "outputs": [
    {
     "data": {
      "text/plain": [
       "date                            0\n",
       "prefecture_code                 0\n",
       "prefecture_name                 0\n",
       "count_first_or_mid_general      0\n",
       "count_second_or_full_general    0\n",
       "dtype: int64"
      ]
     },
     "execution_count": 5,
     "metadata": {},
     "output_type": "execute_result"
    }
   ],
   "source": [
    "df.isnull().sum()"
   ]
  },
  {
   "cell_type": "code",
   "execution_count": 6,
   "metadata": {},
   "outputs": [],
   "source": [
    "df[\"wait_for_second\"] = df[\"count_first_or_mid_general\"] - df[\"count_second_or_full_general\"]\n",
    "X = df[[\"count_first_or_mid_general\", \"wait_for_second\"]]"
   ]
  },
  {
   "cell_type": "code",
   "execution_count": 7,
   "metadata": {},
   "outputs": [
    {
     "data": {
      "image/png": "[encoded data removed]",
      "text/plain": [
       "<Figure size 864x576 with 1 Axes>"
      ]
     },
     "metadata": {
      "needs_background": "light"
     },
     "output_type": "display_data"
    }
   ],
   "source": [
    "plt.figure(figsize=(12,8))\n",
    "plt.scatter(X[\"count_first_or_mid_general\"], X[\"wait_for_second\"],marker=\"o\", facecolor=\"none\",\n",
    "           edgecolors=\"black\", s=80)\n",
    "x_min, x_max = X[\"count_first_or_mid_general\"].min(), X[\"count_first_or_mid_general\"].max()\n",
    "y_min, y_max = X[\"wait_for_second\"].min(), X[\"wait_for_second\"].max()\n",
    "plt.title(\"Vaccin First and Waiting for Second\")\n",
    "plt.xlim(x_min, x_max)\n",
    "plt.ylim(y_min, y_max)\n",
    "\n",
    "plt.show()"
   ]
  },
  {
   "cell_type": "code",
   "execution_count": 8,
   "metadata": {},
   "outputs": [],
   "source": [
    "kmeans = KMeans(n_clusters=3,n_init=10)\n",
    "#クラスタ数は3、アルゴリズムを10回実行"
   ]
  },
  {
   "cell_type": "code",
   "execution_count": 9,
   "metadata": {},
   "outputs": [],
   "source": [
    "result = kmeans.fit(X)"
   ]
  },
  {
   "cell_type": "code",
   "execution_count": 10,
   "metadata": {},
   "outputs": [],
   "source": [
    "output = kmeans.predict(X)"
   ]
  },
  {
   "cell_type": "code",
   "execution_count": 11,
   "metadata": {},
   "outputs": [
    {
     "data": {
      "image/png": "[encoded data removed]",
      "text/plain": [
       "<Figure size 432x288 with 1 Axes>"
      ]
     },
     "metadata": {
      "needs_background": "light"
     },
     "output_type": "display_data"
    }
   ],
   "source": [
    "plt.scatter(X[\"count_first_or_mid_general\"], X[\"wait_for_second\"], c=result.labels_)\n",
    "plt.show()"
   ]
  },
  {
   "cell_type": "code",
   "execution_count": 12,
   "metadata": {},
   "outputs": [
    {
     "data": {
      "text/plain": [
       "12    東京都\n",
       "Name: prefecture_name, dtype: object"
      ]
     },
     "execution_count": 12,
     "metadata": {},
     "output_type": "execute_result"
    }
   ],
   "source": [
    "df[df[\"count_first_or_mid_general\"] > 4000000][\"prefecture_name\"]"
   ]
  }
 ],
 "metadata": {
  "kernelspec": {
   "display_name": "Python 3",
   "language": "python",
   "name": "python3"
  },
  "language_info": {
   "codemirror_mode": {
    "name": "ipython",
    "version": 3
   },
   "file_extension": ".py",
   "mimetype": "text/x-python",
   "name": "python",
   "nbconvert_exporter": "python",
   "pygments_lexer": "ipython3",
   "version": "3.8.5"
  }
 },
 "nbformat": 4,
 "nbformat_minor": 4
}
