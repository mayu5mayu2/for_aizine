{
 "cells": [
  {
   "cell_type": "markdown",
   "metadata": {},
   "source": [
    "今回はAnacondaよりJupyterLabとpixabayというサイトにある画像を使用します。\n",
    "\n",
    "https://pixabay.com/ja/photos/%E5%BC%95%E6%95%B0-%E7%AB%B6%E5%90%88-%E8%AB%96%E4%BA%89-%E7%B4%9B%E4%BA%89-238529/\n",
    "\n",
    "画像の読み込みや書き込みについては同じフォルダ内での操作を想定しています。"
   ]
  },
  {
   "cell_type": "markdown",
   "metadata": {},
   "source": [
    "### 画像の読み込み"
   ]
  },
  {
   "cell_type": "code",
   "execution_count": 1,
   "metadata": {},
   "outputs": [],
   "source": [
    "import cv2 #OpenCV4でもcv2と表記するので注意\n",
    "import numpy as np"
   ]
  },
  {
   "cell_type": "markdown",
   "metadata": {},
   "source": [
    "画像の読み込みのコードですが以下の書式となっています。\n",
    "\n",
    "img = cv2.imread(filename[,flag])\n",
    "\n",
    "ここにあるfilenameは読み込む画像ファイルの名前のこと。\n",
    "\n",
    "imgという変数名になってますが読み込んだ画像の画素値をNumPy配列として格納しています。\n",
    "\n",
    "その次にポイントとなるのがflagという部分。\n",
    "\n",
    "ここで数字を指定することになりますが0ならグレースケール(1bit)、1ならRGB(3bit)、-1ならRGBA(4bit)の画像として読み込むこととなります。\n",
    "\n",
    "今回は3bitとなるRGBの画像として読み込んで作業に入ります。"
   ]
  },
  {
   "cell_type": "code",
   "execution_count": 2,
   "metadata": {},
   "outputs": [],
   "source": [
    "img = cv2.imread(\"argument-238529_1920.jpg\", 1)"
   ]
  },
  {
   "cell_type": "markdown",
   "metadata": {},
   "source": [
    "### 画像の表示"
   ]
  },
  {
   "cell_type": "markdown",
   "metadata": {},
   "source": [
    "画像を読み込んだ時にはimreadを使いましたが表示ではimshowを使います。\n",
    "\n",
    "下にあるwaitKey() はキーボード入力を処理する関数。\n",
    "\n",
    "引数では入力までの待ち時間でミリ秒単位で指定することになります。\n",
    "\n",
    "待っている間に何か打てばその先の処理を進めてくれます。\n",
    "\n",
    "今回指定する引数は0。\n",
    "\n",
    "この場合は何か打つまでずっと待ち続けてくれます。\n",
    "\n",
    "cv2.destroyAllWindows() は現在までに作られた全てのウィンドウを閉じる関数で全て閉じたくない時はウィンドウ名から関数内で指定することもできます。"
   ]
  },
  {
   "cell_type": "code",
   "execution_count": 3,
   "metadata": {},
   "outputs": [],
   "source": [
    "origin = cv2.imread(\"argument-238529_1920.jpg\", 1)\n",
    "cv2.imshow('origin',origin)\n",
    "cv2.waitKey(0)\n",
    "cv2.destroyAllWindows()"
   ]
  },
  {
   "cell_type": "markdown",
   "metadata": {},
   "source": [
    "### サイズ変更"
   ]
  },
  {
   "cell_type": "markdown",
   "metadata": {},
   "source": [
    "imshow()の前にresizeを入れることで対応可能です。\n",
    "\n",
    "resizeの後1つ目の引数に入力画像の変数名、次にタプル形式で画像サイズの幅と高さを指定します。"
   ]
  },
  {
   "cell_type": "code",
   "execution_count": 4,
   "metadata": {},
   "outputs": [],
   "source": [
    "small = cv2.imread(\"argument-238529_1920.jpg\", 1)\n",
    "small = cv2.resize(small, (400, 300))\n",
    "cv2.imshow('small', small)\n",
    "cv2.waitKey(0)\n",
    "cv2.destroyAllWindows()"
   ]
  },
  {
   "cell_type": "markdown",
   "metadata": {},
   "source": [
    "### 画像に描画"
   ]
  },
  {
   "cell_type": "markdown",
   "metadata": {},
   "source": [
    "ここではパンチされている男性の目元を黒い四角で多いつつグローブの上のあたりに\"Fight!\"という文字列を表示するのを目指します。"
   ]
  },
  {
   "cell_type": "markdown",
   "metadata": {},
   "source": [
    "#### 文字列の描画"
   ]
  },
  {
   "cell_type": "markdown",
   "metadata": {},
   "source": [
    "文字列の描画ではputTextという関数を用います。\n",
    "\n",
    "記述の仕方は\n",
    "\n",
    "putText(画像, 文字列, 位置(X, Y), フォント, 倍率, 色(B, G, R), 線の太さ)\n",
    "\n",
    "とかなり長め。\n",
    "\n",
    "位置(X, Y)で指定するのは描画する文字列の左下の角の座標となります。"
   ]
  },
  {
   "cell_type": "code",
   "execution_count": 5,
   "metadata": {},
   "outputs": [],
   "source": [
    "fight = cv2.imread('argument-238529_1920.jpg', 1)\n",
    "cv2.putText(fight, 'Fight!', (830, 300), cv2.FONT_HERSHEY_SIMPLEX, 5.0, (0, 0, 255), 16)\n",
    "cv2.imshow('fight', fight)\n",
    " \n",
    "cv2.waitKey(0)\n",
    "cv2.destroyAllWindows()"
   ]
  },
  {
   "cell_type": "markdown",
   "metadata": {},
   "source": [
    "#### 長方形の描画"
   ]
  },
  {
   "cell_type": "markdown",
   "metadata": {},
   "source": [
    "次に長方形を描画します。\n",
    "\n",
    "ここで使用するのはrectangle。\n",
    "\n",
    "rectangle(画像, 左上座標(X, Y), 右下座標(X, Y), 色(B, G, R), 線の太さ)\n",
    "\n",
    "という形で表記し線の太さを-1に設定することで中身を塗りつぶすことになります。"
   ]
  },
  {
   "cell_type": "code",
   "execution_count": 6,
   "metadata": {},
   "outputs": [],
   "source": [
    "black = cv2.imread('argument-238529_1920.jpg', 1)\n",
    "cv2.rectangle(black, (680, 520), (380, 420), (20, 20, 20), -1)\n",
    "cv2.imshow('black', black)\n",
    " \n",
    "cv2.waitKey(0)\n",
    "cv2.destroyAllWindows()"
   ]
  },
  {
   "cell_type": "markdown",
   "metadata": {},
   "source": [
    "#### 両方描画"
   ]
  },
  {
   "cell_type": "markdown",
   "metadata": {},
   "source": [
    "それぞれ描画ができたので両方とも表示させてみましょう。"
   ]
  },
  {
   "cell_type": "code",
   "execution_count": 7,
   "metadata": {},
   "outputs": [],
   "source": [
    "full = cv2.imread('argument-238529_1920.jpg', 1)\n",
    "cv2.putText(full, 'Fight!', (830, 300), cv2.FONT_HERSHEY_SIMPLEX, 5.0, (0, 0, 255), 16)\n",
    "cv2.rectangle(full, (680, 520), (380, 420), (20, 20, 20), -1)\n",
    "cv2.imshow('NO MORE UWAKI!', full)\n",
    " \n",
    "cv2.waitKey(0)\n",
    "cv2.destroyAllWindows()"
   ]
  },
  {
   "cell_type": "markdown",
   "metadata": {},
   "source": [
    "### 画像を書き込み"
   ]
  },
  {
   "cell_type": "markdown",
   "metadata": {},
   "source": [
    "最後に完成させた画像を保存しましょう。\n",
    "\n",
    "ここではimwriteを使用。\n",
    "\n",
    "cv2.imwrite(filename, img)\n",
    "\n",
    "という形式の中でfilenameは書き出す画像の名前、imgは書き込みをする画像の変数名を入れます。"
   ]
  },
  {
   "cell_type": "code",
   "execution_count": 8,
   "metadata": {},
   "outputs": [
    {
     "data": {
      "text/plain": [
       "True"
      ]
     },
     "execution_count": 8,
     "metadata": {},
     "output_type": "execute_result"
    }
   ],
   "source": [
    "cv2.imwrite(\"no_more_uwaki.jpg\", full)"
   ]
  },
  {
   "cell_type": "markdown",
   "metadata": {},
   "source": [
    "念の為表示させてみましょう。"
   ]
  },
  {
   "cell_type": "code",
   "execution_count": 9,
   "metadata": {},
   "outputs": [],
   "source": [
    "test = cv2.imread(\"no_more_uwaki.jpg\", 1)\n",
    "cv2.imshow('test',test)\n",
    "cv2.waitKey(0)\n",
    "cv2.destroyAllWindows()"
   ]
  },
  {
   "cell_type": "markdown",
   "metadata": {},
   "source": [
    "フォルダ内に追加されつつきちんと表示されていれば成功です。"
   ]
  }
 ],
 "metadata": {
  "kernelspec": {
   "display_name": "Python 3",
   "language": "python",
   "name": "python3"
  },
  "language_info": {
   "codemirror_mode": {
    "name": "ipython",
    "version": 3
   },
   "file_extension": ".py",
   "mimetype": "text/x-python",
   "name": "python",
   "nbconvert_exporter": "python",
   "pygments_lexer": "ipython3",
   "version": "3.8.5"
  }
 },
 "nbformat": 4,
 "nbformat_minor": 4
}
